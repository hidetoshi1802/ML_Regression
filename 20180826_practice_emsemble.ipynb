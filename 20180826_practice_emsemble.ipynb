{
 "cells": [
  {
   "cell_type": "code",
   "execution_count": 11,
   "metadata": {},
   "outputs": [],
   "source": [
    "import pandas as pd\n",
    "import numpy as np\n",
    "from sklearn.datasets import load_boston\n",
    "from sklearn.preprocessing import StandardScaler\n",
    "from sklearn.linear_model import LinearRegression, Ridge\n",
    "from sklearn.ensemble import RandomForestRegressor, GradientBoostingRegressor\n",
    "from sklearn.pipeline import Pipeline\n",
    "from sklearn.metrics import r2_score\n",
    "from sklearn.model_selection import train_test_split\n",
    "\n",
    "dataset  = load_boston()\n",
    "\n",
    "# set dataFrame\n",
    "x = pd.DataFrame(dataset.data, columns=dataset.feature_names)\n",
    "y = pd.DataFrame(dataset.target, columns=['y'])\n",
    "\n",
    "# split the data for hold-out\n",
    "x_train, x_test, y_train, y_test = train_test_split(x, y, test_size=.2, random_state=0)\n",
    "# reshape target valiables\n",
    "y_train, y_true = y_train.as_matrix().ravel(), y_test.as_matrix().ravel()\n",
    "\n",
    "# set pipeline\n",
    "pipe_ols = Pipeline([('scl', StandardScaler()), ('est', LinearRegression())])\n",
    "pipe_ridge = Pipeline([('scl', StandardScaler()), ('est', Ridge(random_state=1))])\n",
    "pipe_rf = Pipeline([('scl', StandardScaler()), ('est', RandomForestRegressor(random_state=1))])\n",
    "pipe_gbr = Pipeline([('scl', StandardScaler()), ('est', GradientBoostingRegressor(random_state=1))])\n",
    "\n",
    "# optimize paramters\n",
    "pipe_ols.fit(x_train, y_train)\n",
    "pipe_ridge.fit(x_train, y_train)\n",
    "pipe_rf.fit(x_train, y_train)\n",
    "pipe_gbr.fit(x_train, y_train)\n",
    "\n",
    "# get R2 score\n",
    "r2_score_ols = r2_score(y_true, pipe_ols.predict(x_test))\n",
    "r2_score_ridge = r2_score(y_true, pipe_ridge.predict(x_test))\n",
    "r2_score_rf = r2_score(y_true, pipe_rf.predict(x_test))\n",
    "r2_score_gbr = r2_score(y_true, pipe_gbr.predict(x_test))"
   ]
  },
  {
   "cell_type": "code",
   "execution_count": 12,
   "metadata": {},
   "outputs": [
    {
     "name": "stdout",
     "output_type": "stream",
     "text": [
      "R2 score of OLS: 0.589201\n",
      "R2 score of RIDGE: 0.588120\n",
      "R2 score of RF: 0.706710\n",
      "R2 score of GBR: 0.779037\n"
     ]
    }
   ],
   "source": [
    "# print the performance\n",
    "print('R2 score of OLS: %.6f' %r2_score_ols)\n",
    "print('R2 score of RIDGE: %.6f' %r2_score_ridge)\n",
    "print('R2 score of RF: %.6f' %r2_score_rf)\n",
    "print('R2 score of GBR: %.6f' %r2_score_gbr)"
   ]
  }
 ],
 "metadata": {
  "kernelspec": {
   "display_name": "Python 3",
   "language": "python",
   "name": "python3"
  },
  "language_info": {
   "codemirror_mode": {
    "name": "ipython",
    "version": 3
   },
   "file_extension": ".py",
   "mimetype": "text/x-python",
   "name": "python",
   "nbconvert_exporter": "python",
   "pygments_lexer": "ipython3",
   "version": "3.6.4"
  }
 },
 "nbformat": 4,
 "nbformat_minor": 2
}
